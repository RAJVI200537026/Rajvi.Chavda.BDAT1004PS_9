{
 "cells": [
  {
   "cell_type": "code",
   "execution_count": 7,
   "id": "c2319b34",
   "metadata": {},
   "outputs": [
    {
     "name": "stdout",
     "output_type": "stream",
     "text": [
      "Exception: TypeError\n",
      "Error occurred while trying to add incompatible variables.\n",
      "Exception: IndexError\n",
      "Error occurred while referring to an index outside the list's range.\n",
      "Exception: ValueError\n",
      "Error occurred while using a value that is out of range.\n",
      "Exception: NameError\n",
      "Error occurred while using an undeclared variable.\n",
      "Exception: FileNotFoundError\n",
      "Error occurred while trying to open a file that does not exist.\n"
     ]
    }
   ],
   "source": [
    "# Question 9  Rajvi Chavda\n",
    "\n",
    "import math\n",
    "\n",
    "# Trying to add incompatible variables: 6 + 'a'\n",
    "try:\n",
    "    result = 6 + 'a'\n",
    "except TypeError as e:\n",
    "    print(\"Exception: TypeError\")\n",
    "    print(\"Error occurred while trying to add incompatible variables.\")\n",
    "\n",
    "# Referring to the 12th item of a list that has only 10 items\n",
    "try:\n",
    "    my_list = [1, 2, 3, 4, 5, 6, 7, 8, 9, 10]\n",
    "    item = my_list[11]\n",
    "except IndexError as e:\n",
    "    print(\"Exception: IndexError\")\n",
    "    print(\"Error occurred while referring to an index outside the list's range.\")\n",
    "\n",
    "# Using a value that is out of range for a function's input: math.sqrt(-1.0)\n",
    "try:\n",
    "    result = math.sqrt(-1.0)\n",
    "except ValueError as e:\n",
    "    print(\"Exception: ValueError\")\n",
    "    print(\"Error occurred while using a value that is out of range.\")\n",
    "\n",
    "# Using an undeclared variable: print(x) when x has not been defined\n",
    "try:\n",
    "    print(x)\n",
    "except NameError as e:\n",
    "    print(\"Exception: NameError\")\n",
    "    print(\"Error occurred while using an undeclared variable.\")\n",
    "\n",
    "# Trying to open a file that does not exist: mistyping the file name or looking in the wrong directory\n",
    "try:\n",
    "    file = open(\"nonexistent_file.txt\", \"r\")\n",
    "except FileNotFoundError as e:\n",
    "    print(\"Exception: FileNotFoundError\")\n",
    "    print(\"Error occurred while trying to open a file that does not exist.\")\n"
   ]
  },
  {
   "cell_type": "code",
   "execution_count": null,
   "id": "7269cdff",
   "metadata": {},
   "outputs": [],
   "source": []
  }
 ],
 "metadata": {
  "kernelspec": {
   "display_name": "Python 3 (ipykernel)",
   "language": "python",
   "name": "python3"
  },
  "language_info": {
   "codemirror_mode": {
    "name": "ipython",
    "version": 3
   },
   "file_extension": ".py",
   "mimetype": "text/x-python",
   "name": "python",
   "nbconvert_exporter": "python",
   "pygments_lexer": "ipython3",
   "version": "3.10.9"
  }
 },
 "nbformat": 4,
 "nbformat_minor": 5
}
